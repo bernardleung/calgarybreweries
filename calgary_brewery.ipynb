import googlemaps
import pandas as pd
import time


API_KEY = "YOUR KEY"
map_client = googlemaps.Client(API_KEY)

location = (51.05, -114.50032556307899)
search_string = 'brewery'
distance = 50000
calgary_brew = []

response = map_client.places(
    query = search_string,
    location = location,
    radius= distance
)

calgary_brew.extend(response.get('results'))
next_page_token = response.get('next_page_token')

while next_page_token:
    time.sleep(3)
    response = map_client.places(
        query = search_string,
        location = location,
        radius= distance,
        page_token=next_page_token
    )
    calgary_brew.extend(response.get('results'))
    next_page_token = response.get('next_page_token')

df = pd.DataFrame(calgary_brew)
df.to_excel('calgary_brew.xlsx'.format(search_string), index=False)
